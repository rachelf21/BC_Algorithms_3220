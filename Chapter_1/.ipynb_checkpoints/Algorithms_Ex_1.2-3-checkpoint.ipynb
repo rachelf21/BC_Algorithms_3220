{
 "cells": [
  {
   "cell_type": "code",
   "execution_count": 1,
   "metadata": {},
   "outputs": [
    {
     "name": "stdout",
     "output_type": "stream",
     "text": [
      "n = 15\n"
     ]
    }
   ],
   "source": [
    "import numpy as np\n",
    "import pandas as pd\n",
    "import matplotlib.pyplot as plt\n",
    "\n",
    "n=1\n",
    "algorithm_1=100*n**2\n",
    "algorithm_2=2**n\n",
    "    #Create array to store all values:\n",
    "algorithm_1_runtime = []\n",
    "algorithm_2_runtime = []\n",
    "\n",
    "while algorithm_1 >= algorithm_2:\n",
    "    algorithm_1=100*n**2\n",
    "    algorithm_1_runtime.append(algorithm_1)\n",
    "    algorithm_2=2**n\n",
    "    algorithm_2_runtime.append(algorithm_2)\n",
    "    n+=1\n",
    "    \n",
    "print(\"n =\",n-1)\n",
    "\n",
    "for n in range(n,n+2):\n",
    "    algorithm_1=100*n**2\n",
    "    algorithm_1_runtime.append(algorithm_1)\n",
    "    algorithm_2=2**n\n",
    "    algorithm_2_runtime.append(algorithm_2) \n",
    "    n+=1"
   ]
  },
  {
   "cell_type": "code",
   "execution_count": 2,
   "metadata": {},
   "outputs": [
    {
     "data": {
      "text/html": [
       "<div>\n",
       "<style scoped>\n",
       "    .dataframe tbody tr th:only-of-type {\n",
       "        vertical-align: middle;\n",
       "    }\n",
       "\n",
       "    .dataframe tbody tr th {\n",
       "        vertical-align: top;\n",
       "    }\n",
       "\n",
       "    .dataframe thead th {\n",
       "        text-align: right;\n",
       "    }\n",
       "</style>\n",
       "<table border=\"1\" class=\"dataframe\">\n",
       "  <thead>\n",
       "    <tr style=\"text-align: right;\">\n",
       "      <th></th>\n",
       "      <th>Algorithm_1</th>\n",
       "      <th>Algorithm_2</th>\n",
       "    </tr>\n",
       "    <tr>\n",
       "      <th>n</th>\n",
       "      <th></th>\n",
       "      <th></th>\n",
       "    </tr>\n",
       "  </thead>\n",
       "  <tbody>\n",
       "    <tr>\n",
       "      <th>1</th>\n",
       "      <td>100</td>\n",
       "      <td>2</td>\n",
       "    </tr>\n",
       "    <tr>\n",
       "      <th>2</th>\n",
       "      <td>400</td>\n",
       "      <td>4</td>\n",
       "    </tr>\n",
       "    <tr>\n",
       "      <th>3</th>\n",
       "      <td>900</td>\n",
       "      <td>8</td>\n",
       "    </tr>\n",
       "    <tr>\n",
       "      <th>4</th>\n",
       "      <td>1600</td>\n",
       "      <td>16</td>\n",
       "    </tr>\n",
       "    <tr>\n",
       "      <th>5</th>\n",
       "      <td>2500</td>\n",
       "      <td>32</td>\n",
       "    </tr>\n",
       "    <tr>\n",
       "      <th>6</th>\n",
       "      <td>3600</td>\n",
       "      <td>64</td>\n",
       "    </tr>\n",
       "    <tr>\n",
       "      <th>7</th>\n",
       "      <td>4900</td>\n",
       "      <td>128</td>\n",
       "    </tr>\n",
       "    <tr>\n",
       "      <th>8</th>\n",
       "      <td>6400</td>\n",
       "      <td>256</td>\n",
       "    </tr>\n",
       "    <tr>\n",
       "      <th>9</th>\n",
       "      <td>8100</td>\n",
       "      <td>512</td>\n",
       "    </tr>\n",
       "    <tr>\n",
       "      <th>10</th>\n",
       "      <td>10000</td>\n",
       "      <td>1024</td>\n",
       "    </tr>\n",
       "    <tr>\n",
       "      <th>11</th>\n",
       "      <td>12100</td>\n",
       "      <td>2048</td>\n",
       "    </tr>\n",
       "    <tr>\n",
       "      <th>12</th>\n",
       "      <td>14400</td>\n",
       "      <td>4096</td>\n",
       "    </tr>\n",
       "    <tr>\n",
       "      <th>13</th>\n",
       "      <td>16900</td>\n",
       "      <td>8192</td>\n",
       "    </tr>\n",
       "    <tr>\n",
       "      <th>14</th>\n",
       "      <td>19600</td>\n",
       "      <td>16384</td>\n",
       "    </tr>\n",
       "    <tr>\n",
       "      <th>15</th>\n",
       "      <td>22500</td>\n",
       "      <td>32768</td>\n",
       "    </tr>\n",
       "    <tr>\n",
       "      <th>16</th>\n",
       "      <td>25600</td>\n",
       "      <td>65536</td>\n",
       "    </tr>\n",
       "    <tr>\n",
       "      <th>17</th>\n",
       "      <td>28900</td>\n",
       "      <td>131072</td>\n",
       "    </tr>\n",
       "  </tbody>\n",
       "</table>\n",
       "</div>"
      ],
      "text/plain": [
       "    Algorithm_1  Algorithm_2\n",
       "n                           \n",
       "1           100            2\n",
       "2           400            4\n",
       "3           900            8\n",
       "4          1600           16\n",
       "5          2500           32\n",
       "6          3600           64\n",
       "7          4900          128\n",
       "8          6400          256\n",
       "9          8100          512\n",
       "10        10000         1024\n",
       "11        12100         2048\n",
       "12        14400         4096\n",
       "13        16900         8192\n",
       "14        19600        16384\n",
       "15        22500        32768\n",
       "16        25600        65536\n",
       "17        28900       131072"
      ]
     },
     "metadata": {},
     "output_type": "display_data"
    }
   ],
   "source": [
    "#Create dataframe for nicer output and for use with graph \n",
    "z=list(np.arange(1,n))\n",
    "cols = {\"n\":z, \"Algorithm_1\":algorithm_1_runtime, \"Algorithm_2\":algorithm_2_runtime}\n",
    "df = pd.DataFrame(cols)\n",
    "df.set_index(\"n\",inplace=True)\n",
    "display(df)\n",
    "df=df.reset_index()"
   ]
  },
  {
   "cell_type": "code",
   "execution_count": 6,
   "metadata": {
    "scrolled": true
   },
   "outputs": [
    {
     "data": {
      "image/png": "[encoded data removed]",
      "text/plain": [
       "<matplotlib.figure.Figure at 0x1e46f088080>"
      ]
     },
     "metadata": {},
     "output_type": "display_data"
    }
   ],
   "source": [
    "#Create graphs from dataframe\n",
    "ax=plt.gca()\n",
    "plt.style.use('seaborn')\n",
    "plt.title(\"Smallest number at which Algorithm 1 is faster\", fontsize=16)\n",
    "df.plot(kind=\"line\", x=\"n\", y=\"Algorithm_1\",ax=ax)\n",
    "df.plot(kind=\"line\", x=\"n\", y=\"Algorithm_2\",color=\"orange\",ax=ax)\n",
    "plt.xlabel(\"Value of n\",fontsize=14)\n",
    "plt.ylabel(\"Steps\",fontsize=14)\n",
    "plt.plot(15,22500,'o',color='red',markersize=10) \n",
    "ax.annotate(\"n = 15\",xy=(13,30800),xytext=(13,30000),fontsize=14,color=\"red\")\n",
    "plt.tight_layout\n",
    "plt.savefig('ques1.2-3.png',dpi=300,bbox_inches=\"tight\")\n",
    "plt.legend(loc=2, prop={'size': 10})\n",
    "plt.show()"
   ]
  },
  {
   "cell_type": "code",
   "execution_count": null,
   "metadata": {
    "collapsed": true
   },
   "outputs": [],
   "source": []
  },
  {
   "cell_type": "code",
   "execution_count": null,
   "metadata": {
    "collapsed": true
   },
   "outputs": [],
   "source": []
  },
  {
   "cell_type": "code",
   "execution_count": null,
   "metadata": {
    "collapsed": true
   },
   "outputs": [],
   "source": []
  },
  {
   "cell_type": "code",
   "execution_count": null,
   "metadata": {
    "collapsed": true
   },
   "outputs": [],
   "source": []
  },
  {
   "cell_type": "code",
   "execution_count": null,
   "metadata": {
    "collapsed": true
   },
   "outputs": [],
   "source": []
  }
 ],
 "metadata": {
  "kernelspec": {
   "display_name": "Python 3",
   "language": "python",
   "name": "python3"
  },
  "language_info": {
   "codemirror_mode": {
    "name": "ipython",
    "version": 3
   },
   "file_extension": ".py",
   "mimetype": "text/x-python",
   "name": "python",
   "nbconvert_exporter": "python",
   "pygments_lexer": "ipython3",
   "version": "3.6.3"
  },
  "latex_envs": {
   "LaTeX_envs_menu_present": true,
   "autoclose": false,
   "autocomplete": true,
   "bibliofile": "biblio.bib",
   "cite_by": "apalike",
   "current_citInitial": 1,
   "eqLabelWithNumbers": true,
   "eqNumInitial": 1,
   "hotkeys": {
    "equation": "Ctrl-E",
    "itemize": "Ctrl-I"
   },
   "labels_anchors": false,
   "latex_user_defs": false,
   "report_style_numbering": false,
   "user_envs_cfg": false
  }
 },
 "nbformat": 4,
 "nbformat_minor": 2
}
