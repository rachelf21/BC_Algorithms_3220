{
 "cells": [
  {
   "cell_type": "code",
   "execution_count": 1,
   "metadata": {},
   "outputs": [
    {
     "name": "stdout",
     "output_type": "stream",
     "text": [
      "In milliseconds:\n",
      "1 second = 1000000\n",
      "1 minute = 60000000\n",
      "1 hour = 3600000000\n",
      "1 day = 86400000000\n",
      "1 month = 2592000000000\n",
      "1 year = 31536000000000\n",
      "1 century = 3153600000000000\n"
     ]
    }
   ],
   "source": [
    "import numpy as np\n",
    "sec = 10**6\n",
    "minute = 60*sec\n",
    "hour = 60*minute\n",
    "day=24*hour\n",
    "month=30*day\n",
    "year=365*day\n",
    "century=100*year\n",
    "\n",
    "print(\"In milliseconds:\")\n",
    "print(\"1 second =\",sec)\n",
    "print(\"1 minute =\",minute)\n",
    "print(\"1 hour =\",hour)\n",
    "print(\"1 day =\",day)\n",
    "print(\"1 month =\",month)\n",
    "print(\"1 year =\",year)\n",
    "print(\"1 century =\",century)\n"
   ]
  },
  {
   "cell_type": "code",
   "execution_count": 2,
   "metadata": {},
   "outputs": [
    {
     "name": "stdout",
     "output_type": "stream",
     "text": [
      "62746\n",
      "6.2747E+04\n"
     ]
    }
   ],
   "source": [
    "n = 1\n",
    "while n * np.log2(n) < sec:\n",
    "    n+=1\n",
    "print(n-1)\n",
    "print('{:.4E}'.format(n))"
   ]
  },
  {
   "cell_type": "code",
   "execution_count": 3,
   "metadata": {},
   "outputs": [
    {
     "name": "stdout",
     "output_type": "stream",
     "text": [
      "2801417\n",
      "2.8014E+06\n"
     ]
    }
   ],
   "source": [
    "n = n*10\n",
    "while n * np.log2(n) < minute:\n",
    "    n+=1\n",
    "print(n-1)\n",
    "print('{:.4E}'.format(n))"
   ]
  },
  {
   "cell_type": "code",
   "execution_count": 4,
   "metadata": {},
   "outputs": [
    {
     "name": "stdout",
     "output_type": "stream",
     "text": [
      "133378058\n",
      "1.3338E+08\n"
     ]
    }
   ],
   "source": [
    "n=n*10\n",
    "while n * np.log2(n) < hour:\n",
    "    n+=1\n",
    "print(n-1)\n",
    "print('{:.4E}'.format(n))"
   ]
  },
  {
   "cell_type": "code",
   "execution_count": 5,
   "metadata": {},
   "outputs": [
    {
     "name": "stdout",
     "output_type": "stream",
     "text": [
      "2755147519\n",
      "2.7551E+09\n"
     ]
    }
   ],
   "source": [
    "n = n*20\n",
    "while n * np.log2(n) < day:\n",
    "    n+=10\n",
    "print(n-1)\n",
    "print('{:.4E}'.format(n))"
   ]
  },
  {
   "cell_type": "code",
   "execution_count": 6,
   "metadata": {},
   "outputs": [
    {
     "name": "stdout",
     "output_type": "stream",
     "text": [
      "71870857399\n",
      "7.1871E+10\n"
     ]
    }
   ],
   "source": [
    "n = n*20\n",
    "while n * np.log2(n) < month:\n",
    "    n+=1000\n",
    "print(int(n-1))\n",
    "print('{:.4E}'.format(n))"
   ]
  },
  {
   "cell_type": "code",
   "execution_count": 7,
   "metadata": {},
   "outputs": [
    {
     "name": "stdout",
     "output_type": "stream",
     "text": [
      "797633893999\n",
      "7.9763E+11\n"
     ]
    }
   ],
   "source": [
    "n=n*10   \n",
    "\n",
    "while n * np.log2(n) < year:\n",
    "    n+=1000\n",
    "\n",
    "print(int(n-1))\n",
    "print('{:.4E}'.format(n))"
   ]
  },
  {
   "cell_type": "code",
   "execution_count": 8,
   "metadata": {},
   "outputs": [
    {
     "name": "stdout",
     "output_type": "stream",
     "text": [
      "n= 68610956939999\n",
      "6.8611E+13\n"
     ]
    }
   ],
   "source": [
    "n = n *10\n",
    "\n",
    "while n * np.log2(n) < century:\n",
    "    n+=1000000\n",
    "print(\"n=\", int(n-1))\n",
    "print('{:.4E}'.format(n))"
   ]
  }
 ],
 "metadata": {
  "kernelspec": {
   "display_name": "Python 3",
   "language": "python",
   "name": "python3"
  },
  "language_info": {
   "codemirror_mode": {
    "name": "ipython",
    "version": 3
   },
   "file_extension": ".py",
   "mimetype": "text/x-python",
   "name": "python",
   "nbconvert_exporter": "python",
   "pygments_lexer": "ipython3",
   "version": "3.6.3"
  },
  "latex_envs": {
   "LaTeX_envs_menu_present": true,
   "autoclose": false,
   "autocomplete": true,
   "bibliofile": "biblio.bib",
   "cite_by": "apalike",
   "current_citInitial": 1,
   "eqLabelWithNumbers": true,
   "eqNumInitial": 1,
   "hotkeys": {
    "equation": "Ctrl-E",
    "itemize": "Ctrl-I"
   },
   "labels_anchors": false,
   "latex_user_defs": false,
   "report_style_numbering": false,
   "user_envs_cfg": false
  }
 },
 "nbformat": 4,
 "nbformat_minor": 2
}
