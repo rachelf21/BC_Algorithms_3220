{
 "cells": [
  {
   "cell_type": "code",
   "execution_count": 22,
   "metadata": {},
   "outputs": [
    {
     "name": "stdout",
     "output_type": "stream",
     "text": [
      "In milliseconds:\n",
      "1 second = 1000000\n",
      "1 minute = 60000000\n",
      "1 hour = 3600000000\n",
      "1 day = 86400000000\n",
      "1 month = 2592000000000\n",
      "1 year = 31536000000000\n",
      "1 century = 3153600000000000\n"
     ]
    }
   ],
   "source": [
    "import numpy as np\n",
    "sec = 10**6\n",
    "minute = 60*sec\n",
    "hour = 60*minute\n",
    "day=24*hour\n",
    "month=30*day\n",
    "year=365*day\n",
    "century=100*year\n",
    "\n",
    "print(\"In milliseconds:\")\n",
    "print(\"1 second =\",sec)\n",
    "print(\"1 minute =\",minute)\n",
    "print(\"1 hour =\",hour)\n",
    "print(\"1 day =\",day)\n",
    "print(\"1 month =\",month)\n",
    "print(\"1 year =\",year)\n",
    "print(\"1 century =\",century)\n"
   ]
  },
  {
   "cell_type": "code",
   "execution_count": 76,
   "metadata": {},
   "outputs": [
    {
     "name": "stdout",
     "output_type": "stream",
     "text": [
      "62747\n",
      "6.2747E+04\n"
     ]
    }
   ],
   "source": [
    "n = 1\n",
    "while n * np.log2(n) < sec:\n",
    "    n+=1\n",
    "print(n-1)\n",
    "print('{:.4E}'.format(n))"
   ]
  },
  {
   "cell_type": "code",
   "execution_count": 77,
   "metadata": {},
   "outputs": [
    {
     "name": "stdout",
     "output_type": "stream",
     "text": [
      "2801418\n",
      "2.8014E+06\n"
     ]
    }
   ],
   "source": [
    "n = n*10\n",
    "while n * np.log2(n) < minute:\n",
    "    n+=1\n",
    "print(n-1\n",
    "print('{:.4E}'.format(n))"
   ]
  },
  {
   "cell_type": "code",
   "execution_count": 78,
   "metadata": {},
   "outputs": [
    {
     "name": "stdout",
     "output_type": "stream",
     "text": [
      "133378059\n",
      "1.3338E+08\n"
     ]
    }
   ],
   "source": [
    "#n = 133000000\n",
    "n=n*10\n",
    "while n * np.log2(n) < hour:\n",
    "    n+=1\n",
    "print(n-1)\n",
    "print('{:.4E}'.format(n))"
   ]
  },
  {
   "cell_type": "code",
   "execution_count": 86,
   "metadata": {},
   "outputs": [
    {
     "name": "stdout",
     "output_type": "stream",
     "text": [
      "2755147519\n",
      "2.7551E+09\n",
      "2755147513\n"
     ]
    }
   ],
   "source": [
    "n=133378059\n",
    "n = n*20\n",
    "while n * np.log2(n) < day:\n",
    "    n+=10\n",
    "print(n-1)\n",
    "print('{:.4E}'.format(n))\n",
    "\n",
    "n=n-10\n",
    "while n * np.log2(n) < day:\n",
    "    n+=1\n",
    "print(n-1)"
   ]
  },
  {
   "cell_type": "code",
   "execution_count": 90,
   "metadata": {},
   "outputs": [
    {
     "name": "stdout",
     "output_type": "stream",
     "text": [
      "71870857279\n",
      "7.1871E+10\n",
      "71870852279\n"
     ]
    }
   ],
   "source": [
    "n=2755147514\n",
    "n = n*20\n",
    "while n * np.log2(n) < month:\n",
    "    n+=1000\n",
    "print(int(n-1))\n",
    "print('{:.4E}'.format(n))\n",
    "\n",
    "n=n-5000\n",
    "while n * np.log2(n) < day:\n",
    "    n+=1\n",
    "print(n-1)"
   ]
  },
  {
   "cell_type": "code",
   "execution_count": 88,
   "metadata": {},
   "outputs": [
    {
     "name": "stdout",
     "output_type": "stream",
     "text": [
      "797633893799\n",
      "7.9763E+11\n",
      "797633892799\n"
     ]
    }
   ],
   "source": [
    "#n =   797633893348 \n",
    "n=71870857280\n",
    "n=n*10   \n",
    "\n",
    "while n * np.log2(n) < year:\n",
    "    n+=1000\n",
    "\n",
    "print(int(n-1))\n",
    "print('{:.4E}'.format(n))\n",
    "\n",
    "n=n-5000\n",
    "while n * np.log2(n) < day:\n",
    "    n+=1\n",
    "print(n-1)"
   ]
  },
  {
   "cell_type": "code",
   "execution_count": 89,
   "metadata": {},
   "outputs": [
    {
     "ename": "KeyboardInterrupt",
     "evalue": "",
     "output_type": "error",
     "traceback": [
      "\u001b[1;31m---------------------------------------------------------------------------\u001b[0m",
      "\u001b[1;31mKeyboardInterrupt\u001b[0m                         Traceback (most recent call last)",
      "\u001b[1;32m<ipython-input-89-a681cdbd4379>\u001b[0m in \u001b[0;36m<module>\u001b[1;34m()\u001b[0m\n\u001b[0;32m      1\u001b[0m \u001b[0mn\u001b[0m \u001b[1;33m=\u001b[0m \u001b[1;36m797633893800\u001b[0m \u001b[1;33m*\u001b[0m\u001b[1;36m10\u001b[0m\u001b[1;33m\u001b[0m\u001b[0m\n\u001b[0;32m      2\u001b[0m \u001b[1;33m\u001b[0m\u001b[0m\n\u001b[1;32m----> 3\u001b[1;33m \u001b[1;32mwhile\u001b[0m \u001b[0mn\u001b[0m \u001b[1;33m*\u001b[0m \u001b[0mnp\u001b[0m\u001b[1;33m.\u001b[0m\u001b[0mlog2\u001b[0m\u001b[1;33m(\u001b[0m\u001b[0mn\u001b[0m\u001b[1;33m)\u001b[0m \u001b[1;33m<\u001b[0m \u001b[0mcentury\u001b[0m\u001b[1;33m:\u001b[0m\u001b[1;33m\u001b[0m\u001b[0m\n\u001b[0m\u001b[0;32m      4\u001b[0m     \u001b[0mn\u001b[0m\u001b[1;33m+=\u001b[0m\u001b[1;36m1000000\u001b[0m\u001b[1;33m\u001b[0m\u001b[0m\n\u001b[0;32m      5\u001b[0m \u001b[0mprint\u001b[0m\u001b[1;33m(\u001b[0m\u001b[1;34m\"n=\"\u001b[0m\u001b[1;33m,\u001b[0m \u001b[0mint\u001b[0m\u001b[1;33m(\u001b[0m\u001b[0mn\u001b[0m\u001b[1;33m-\u001b[0m\u001b[1;36m1\u001b[0m\u001b[1;33m)\u001b[0m\u001b[1;33m)\u001b[0m\u001b[1;33m\u001b[0m\u001b[0m\n",
      "\u001b[1;31mKeyboardInterrupt\u001b[0m: "
     ]
    }
   ],
   "source": [
    "n = 797633893800 *10\n",
    "\n",
    "while n * np.log2(n) < century:\n",
    "    n+=1000000\n",
    "print(\"n=\", int(n-1))\n",
    "print('{:.4E}'.format(n))\n",
    "\n",
    "n=n-1000000\n",
    "while n * np.log2(n) < day:\n",
    "    n+=1\n",
    "print(n-1)"
   ]
  },
  {
   "cell_type": "code",
   "execution_count": null,
   "metadata": {
    "collapsed": true
   },
   "outputs": [],
   "source": []
  }
 ],
 "metadata": {
  "kernelspec": {
   "display_name": "Python 3",
   "language": "python",
   "name": "python3"
  },
  "language_info": {
   "codemirror_mode": {
    "name": "ipython",
    "version": 3
   },
   "file_extension": ".py",
   "mimetype": "text/x-python",
   "name": "python",
   "nbconvert_exporter": "python",
   "pygments_lexer": "ipython3",
   "version": "3.6.3"
  },
  "latex_envs": {
   "LaTeX_envs_menu_present": true,
   "autoclose": false,
   "autocomplete": true,
   "bibliofile": "biblio.bib",
   "cite_by": "apalike",
   "current_citInitial": 1,
   "eqLabelWithNumbers": true,
   "eqNumInitial": 1,
   "hotkeys": {
    "equation": "Ctrl-E",
    "itemize": "Ctrl-I"
   },
   "labels_anchors": false,
   "latex_user_defs": false,
   "report_style_numbering": false,
   "user_envs_cfg": false
  }
 },
 "nbformat": 4,
 "nbformat_minor": 2
}
